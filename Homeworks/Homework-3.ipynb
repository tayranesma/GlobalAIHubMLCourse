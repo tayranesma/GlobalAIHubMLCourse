{
 "cells": [
  {
   "cell_type": "markdown",
   "metadata": {},
   "source": [
    "## Homework 3\n",
    "* Generate dataset using make_classification function in the sklearn.datasets class. Generate 10000 samples with 8 features (X) with one label (y). Also, use following parameters\n",
    "    * n_informative = 5\n",
    "    * class_sep = 2\n",
    "    * random_state = 42\n",
    "* Explore and analyse raw data.\n",
    "* Do preprocessing for classification.\n",
    "* Split your dataset into train and test test (0.7 for train and 0.3 for test).\n",
    "* Try Decision Tree and XGBoost Algorithm with different hyperparameters. (Using GridSearchCV is a plus)\n",
    "* Evaluate your result on both train and test set. Analyse if there is any underfitting or overfitting problem. Make your comments."
   ]
  },
  {
   "cell_type": "code",
   "execution_count": null,
   "metadata": {},
   "outputs": [],
   "source": [
    "# Import necessary libraries"
   ]
  },
  {
   "cell_type": "code",
   "execution_count": 111,
   "metadata": {},
   "outputs": [],
   "source": [
    "import pandas as pd\n",
    "import numpy as np\n",
    "\n",
    "import warnings\n",
    "warnings.filterwarnings(\"ignore\")\n",
    "\n",
    "from scipy import stats\n",
    "from scipy.stats import iqr\n",
    "\n",
    "import matplotlib.pyplot as plt\n",
    "import seaborn as sns\n",
    "\n",
    "from sklearn import preprocessing\n",
    "from sklearn.datasets import make_classification\n",
    "from sklearn.model_selection import train_test_split\n",
    "from sklearn.linear_model import LogisticRegression\n",
    "from sklearn.metrics import classification_report, confusion_matrix"
   ]
  },
  {
   "cell_type": "code",
   "execution_count": 71,
   "metadata": {},
   "outputs": [],
   "source": [
    "# Generate dataset using make_classification function in the sklearn. \n",
    "# Convert it into pandas dataframe."
   ]
  },
  {
   "cell_type": "code",
   "execution_count": 72,
   "metadata": {},
   "outputs": [
    {
     "data": {
      "text/plain": [
       "((10000, 8), (10000,))"
      ]
     },
     "execution_count": 72,
     "metadata": {},
     "output_type": "execute_result"
    }
   ],
   "source": [
    "X, y = make_classification(n_samples = 10000, random_state = 42, n_informative = 5, class_sep = 2, n_features = 8)\n",
    "X.shape, y.shape"
   ]
  },
  {
   "cell_type": "code",
   "execution_count": 73,
   "metadata": {},
   "outputs": [
    {
     "data": {
      "text/plain": [
       "(10000, 8)"
      ]
     },
     "execution_count": 73,
     "metadata": {},
     "output_type": "execute_result"
    }
   ],
   "source": [
    "#df = pd.DataFrame(np.c_[X, y])\n",
    "df = pd.DataFrame(X)\n",
    "df.shape"
   ]
  },
  {
   "cell_type": "code",
   "execution_count": 74,
   "metadata": {},
   "outputs": [
    {
     "data": {
      "text/html": [
       "<div>\n",
       "<style scoped>\n",
       "    .dataframe tbody tr th:only-of-type {\n",
       "        vertical-align: middle;\n",
       "    }\n",
       "\n",
       "    .dataframe tbody tr th {\n",
       "        vertical-align: top;\n",
       "    }\n",
       "\n",
       "    .dataframe thead th {\n",
       "        text-align: right;\n",
       "    }\n",
       "</style>\n",
       "<table border=\"1\" class=\"dataframe\">\n",
       "  <thead>\n",
       "    <tr style=\"text-align: right;\">\n",
       "      <th></th>\n",
       "      <th>0</th>\n",
       "      <th>1</th>\n",
       "      <th>2</th>\n",
       "      <th>3</th>\n",
       "      <th>4</th>\n",
       "      <th>5</th>\n",
       "      <th>6</th>\n",
       "      <th>7</th>\n",
       "    </tr>\n",
       "  </thead>\n",
       "  <tbody>\n",
       "    <tr>\n",
       "      <td>0</td>\n",
       "      <td>-0.475055</td>\n",
       "      <td>1.455643</td>\n",
       "      <td>-1.571111</td>\n",
       "      <td>-2.233576</td>\n",
       "      <td>-2.272510</td>\n",
       "      <td>-0.478333</td>\n",
       "      <td>0.012107</td>\n",
       "      <td>-1.616344</td>\n",
       "    </tr>\n",
       "    <tr>\n",
       "      <td>1</td>\n",
       "      <td>1.578351</td>\n",
       "      <td>4.611229</td>\n",
       "      <td>-0.527495</td>\n",
       "      <td>-1.868875</td>\n",
       "      <td>2.921311</td>\n",
       "      <td>-1.783386</td>\n",
       "      <td>3.431662</td>\n",
       "      <td>-0.178611</td>\n",
       "    </tr>\n",
       "    <tr>\n",
       "      <td>2</td>\n",
       "      <td>-2.677604</td>\n",
       "      <td>0.619333</td>\n",
       "      <td>-0.260753</td>\n",
       "      <td>1.768409</td>\n",
       "      <td>1.511900</td>\n",
       "      <td>-1.552257</td>\n",
       "      <td>1.182059</td>\n",
       "      <td>1.810524</td>\n",
       "    </tr>\n",
       "    <tr>\n",
       "      <td>3</td>\n",
       "      <td>0.379412</td>\n",
       "      <td>0.879235</td>\n",
       "      <td>-0.787970</td>\n",
       "      <td>-0.457057</td>\n",
       "      <td>3.388700</td>\n",
       "      <td>1.787840</td>\n",
       "      <td>4.294263</td>\n",
       "      <td>0.427934</td>\n",
       "    </tr>\n",
       "    <tr>\n",
       "      <td>4</td>\n",
       "      <td>-3.645689</td>\n",
       "      <td>3.371521</td>\n",
       "      <td>-2.061152</td>\n",
       "      <td>-1.314058</td>\n",
       "      <td>-0.169329</td>\n",
       "      <td>-2.487230</td>\n",
       "      <td>2.144342</td>\n",
       "      <td>-0.733770</td>\n",
       "    </tr>\n",
       "    <tr>\n",
       "      <td>5</td>\n",
       "      <td>-0.026304</td>\n",
       "      <td>-0.712668</td>\n",
       "      <td>1.290984</td>\n",
       "      <td>4.057603</td>\n",
       "      <td>2.568067</td>\n",
       "      <td>-2.968459</td>\n",
       "      <td>-2.841362</td>\n",
       "      <td>2.316500</td>\n",
       "    </tr>\n",
       "    <tr>\n",
       "      <td>6</td>\n",
       "      <td>-3.093468</td>\n",
       "      <td>1.817493</td>\n",
       "      <td>-0.446330</td>\n",
       "      <td>0.796296</td>\n",
       "      <td>1.325535</td>\n",
       "      <td>-2.172619</td>\n",
       "      <td>1.540533</td>\n",
       "      <td>0.839152</td>\n",
       "    </tr>\n",
       "    <tr>\n",
       "      <td>7</td>\n",
       "      <td>-2.007850</td>\n",
       "      <td>1.504093</td>\n",
       "      <td>-2.849461</td>\n",
       "      <td>3.565156</td>\n",
       "      <td>5.949817</td>\n",
       "      <td>-2.518652</td>\n",
       "      <td>2.521525</td>\n",
       "      <td>3.009275</td>\n",
       "    </tr>\n",
       "    <tr>\n",
       "      <td>8</td>\n",
       "      <td>3.355822</td>\n",
       "      <td>4.064974</td>\n",
       "      <td>-0.850354</td>\n",
       "      <td>-3.229093</td>\n",
       "      <td>1.814034</td>\n",
       "      <td>0.116749</td>\n",
       "      <td>3.920806</td>\n",
       "      <td>-0.584791</td>\n",
       "    </tr>\n",
       "    <tr>\n",
       "      <td>9</td>\n",
       "      <td>-3.249677</td>\n",
       "      <td>2.423485</td>\n",
       "      <td>-0.745789</td>\n",
       "      <td>0.378221</td>\n",
       "      <td>2.122584</td>\n",
       "      <td>-2.170585</td>\n",
       "      <td>2.260092</td>\n",
       "      <td>0.174337</td>\n",
       "    </tr>\n",
       "  </tbody>\n",
       "</table>\n",
       "</div>"
      ],
      "text/plain": [
       "          0         1         2         3         4         5         6  \\\n",
       "0 -0.475055  1.455643 -1.571111 -2.233576 -2.272510 -0.478333  0.012107   \n",
       "1  1.578351  4.611229 -0.527495 -1.868875  2.921311 -1.783386  3.431662   \n",
       "2 -2.677604  0.619333 -0.260753  1.768409  1.511900 -1.552257  1.182059   \n",
       "3  0.379412  0.879235 -0.787970 -0.457057  3.388700  1.787840  4.294263   \n",
       "4 -3.645689  3.371521 -2.061152 -1.314058 -0.169329 -2.487230  2.144342   \n",
       "5 -0.026304 -0.712668  1.290984  4.057603  2.568067 -2.968459 -2.841362   \n",
       "6 -3.093468  1.817493 -0.446330  0.796296  1.325535 -2.172619  1.540533   \n",
       "7 -2.007850  1.504093 -2.849461  3.565156  5.949817 -2.518652  2.521525   \n",
       "8  3.355822  4.064974 -0.850354 -3.229093  1.814034  0.116749  3.920806   \n",
       "9 -3.249677  2.423485 -0.745789  0.378221  2.122584 -2.170585  2.260092   \n",
       "\n",
       "          7  \n",
       "0 -1.616344  \n",
       "1 -0.178611  \n",
       "2  1.810524  \n",
       "3  0.427934  \n",
       "4 -0.733770  \n",
       "5  2.316500  \n",
       "6  0.839152  \n",
       "7  3.009275  \n",
       "8 -0.584791  \n",
       "9  0.174337  "
      ]
     },
     "execution_count": 74,
     "metadata": {},
     "output_type": "execute_result"
    }
   ],
   "source": [
    "df.head(10)"
   ]
  },
  {
   "cell_type": "code",
   "execution_count": 75,
   "metadata": {},
   "outputs": [],
   "source": [
    "# Check duplicate values and missing data."
   ]
  },
  {
   "cell_type": "code",
   "execution_count": 76,
   "metadata": {},
   "outputs": [
    {
     "data": {
      "text/plain": [
       "0"
      ]
     },
     "execution_count": 76,
     "metadata": {},
     "output_type": "execute_result"
    }
   ],
   "source": [
    "#there are no duplicated values\n",
    "df.duplicated().sum()"
   ]
  },
  {
   "cell_type": "code",
   "execution_count": 77,
   "metadata": {},
   "outputs": [
    {
     "data": {
      "text/plain": [
       "0    0\n",
       "1    0\n",
       "2    0\n",
       "3    0\n",
       "4    0\n",
       "5    0\n",
       "6    0\n",
       "7    0\n",
       "dtype: int64"
      ]
     },
     "execution_count": 77,
     "metadata": {},
     "output_type": "execute_result"
    }
   ],
   "source": [
    "#there are no null values\n",
    "df.isnull().sum()"
   ]
  },
  {
   "cell_type": "code",
   "execution_count": 17,
   "metadata": {},
   "outputs": [],
   "source": [
    "# Visualize data for each feature (pairplot,distplot)."
   ]
  },
  {
   "cell_type": "raw",
   "metadata": {},
   "source": [
    "sns.pairplot(df)"
   ]
  },
  {
   "cell_type": "code",
   "execution_count": 78,
   "metadata": {},
   "outputs": [
    {
     "data": {
      "image/png": "[encoded data removed]",
      "text/plain": [
       "<Figure size 432x288 with 1 Axes>"
      ]
     },
     "metadata": {
      "needs_background": "light"
     },
     "output_type": "display_data"
    }
   ],
   "source": [
    "def create_plot(x):\n",
    "    sns.distplot(df[x])\n",
    "\n",
    "for i in range(0,8):\n",
    "    create_plot(i)"
   ]
  },
  {
   "cell_type": "code",
   "execution_count": 79,
   "metadata": {},
   "outputs": [],
   "source": [
    "# Draw correlation matrix."
   ]
  },
  {
   "cell_type": "code",
   "execution_count": 80,
   "metadata": {},
   "outputs": [
    {
     "data": {
      "text/html": [
       "<div>\n",
       "<style scoped>\n",
       "    .dataframe tbody tr th:only-of-type {\n",
       "        vertical-align: middle;\n",
       "    }\n",
       "\n",
       "    .dataframe tbody tr th {\n",
       "        vertical-align: top;\n",
       "    }\n",
       "\n",
       "    .dataframe thead th {\n",
       "        text-align: right;\n",
       "    }\n",
       "</style>\n",
       "<table border=\"1\" class=\"dataframe\">\n",
       "  <thead>\n",
       "    <tr style=\"text-align: right;\">\n",
       "      <th></th>\n",
       "      <th>0</th>\n",
       "      <th>1</th>\n",
       "      <th>2</th>\n",
       "      <th>3</th>\n",
       "      <th>4</th>\n",
       "      <th>5</th>\n",
       "      <th>6</th>\n",
       "      <th>7</th>\n",
       "    </tr>\n",
       "  </thead>\n",
       "  <tbody>\n",
       "    <tr>\n",
       "      <td>0</td>\n",
       "      <td>1.000000</td>\n",
       "      <td>0.235306</td>\n",
       "      <td>0.019813</td>\n",
       "      <td>-0.705908</td>\n",
       "      <td>0.310024</td>\n",
       "      <td>0.635628</td>\n",
       "      <td>0.545522</td>\n",
       "      <td>-0.636540</td>\n",
       "    </tr>\n",
       "    <tr>\n",
       "      <td>1</td>\n",
       "      <td>0.235306</td>\n",
       "      <td>1.000000</td>\n",
       "      <td>-0.001988</td>\n",
       "      <td>-0.618075</td>\n",
       "      <td>-0.180396</td>\n",
       "      <td>-0.347091</td>\n",
       "      <td>0.469165</td>\n",
       "      <td>-0.129568</td>\n",
       "    </tr>\n",
       "    <tr>\n",
       "      <td>2</td>\n",
       "      <td>0.019813</td>\n",
       "      <td>-0.001988</td>\n",
       "      <td>1.000000</td>\n",
       "      <td>-0.010795</td>\n",
       "      <td>0.027022</td>\n",
       "      <td>0.023192</td>\n",
       "      <td>0.020194</td>\n",
       "      <td>-0.018107</td>\n",
       "    </tr>\n",
       "    <tr>\n",
       "      <td>3</td>\n",
       "      <td>-0.705908</td>\n",
       "      <td>-0.618075</td>\n",
       "      <td>-0.010795</td>\n",
       "      <td>1.000000</td>\n",
       "      <td>0.086099</td>\n",
       "      <td>-0.439463</td>\n",
       "      <td>-0.672497</td>\n",
       "      <td>0.758458</td>\n",
       "    </tr>\n",
       "    <tr>\n",
       "      <td>4</td>\n",
       "      <td>0.310024</td>\n",
       "      <td>-0.180396</td>\n",
       "      <td>0.027022</td>\n",
       "      <td>0.086099</td>\n",
       "      <td>1.000000</td>\n",
       "      <td>0.461343</td>\n",
       "      <td>0.465025</td>\n",
       "      <td>-0.176576</td>\n",
       "    </tr>\n",
       "    <tr>\n",
       "      <td>5</td>\n",
       "      <td>0.635628</td>\n",
       "      <td>-0.347091</td>\n",
       "      <td>0.023192</td>\n",
       "      <td>-0.439463</td>\n",
       "      <td>0.461343</td>\n",
       "      <td>1.000000</td>\n",
       "      <td>0.547131</td>\n",
       "      <td>-0.647011</td>\n",
       "    </tr>\n",
       "    <tr>\n",
       "      <td>6</td>\n",
       "      <td>0.545522</td>\n",
       "      <td>0.469165</td>\n",
       "      <td>0.020194</td>\n",
       "      <td>-0.672497</td>\n",
       "      <td>0.465025</td>\n",
       "      <td>0.547131</td>\n",
       "      <td>1.000000</td>\n",
       "      <td>-0.388518</td>\n",
       "    </tr>\n",
       "    <tr>\n",
       "      <td>7</td>\n",
       "      <td>-0.636540</td>\n",
       "      <td>-0.129568</td>\n",
       "      <td>-0.018107</td>\n",
       "      <td>0.758458</td>\n",
       "      <td>-0.176576</td>\n",
       "      <td>-0.647011</td>\n",
       "      <td>-0.388518</td>\n",
       "      <td>1.000000</td>\n",
       "    </tr>\n",
       "  </tbody>\n",
       "</table>\n",
       "</div>"
      ],
      "text/plain": [
       "          0         1         2         3         4         5         6  \\\n",
       "0  1.000000  0.235306  0.019813 -0.705908  0.310024  0.635628  0.545522   \n",
       "1  0.235306  1.000000 -0.001988 -0.618075 -0.180396 -0.347091  0.469165   \n",
       "2  0.019813 -0.001988  1.000000 -0.010795  0.027022  0.023192  0.020194   \n",
       "3 -0.705908 -0.618075 -0.010795  1.000000  0.086099 -0.439463 -0.672497   \n",
       "4  0.310024 -0.180396  0.027022  0.086099  1.000000  0.461343  0.465025   \n",
       "5  0.635628 -0.347091  0.023192 -0.439463  0.461343  1.000000  0.547131   \n",
       "6  0.545522  0.469165  0.020194 -0.672497  0.465025  0.547131  1.000000   \n",
       "7 -0.636540 -0.129568 -0.018107  0.758458 -0.176576 -0.647011 -0.388518   \n",
       "\n",
       "          7  \n",
       "0 -0.636540  \n",
       "1 -0.129568  \n",
       "2 -0.018107  \n",
       "3  0.758458  \n",
       "4 -0.176576  \n",
       "5 -0.647011  \n",
       "6 -0.388518  \n",
       "7  1.000000  "
      ]
     },
     "execution_count": 80,
     "metadata": {},
     "output_type": "execute_result"
    }
   ],
   "source": [
    "df.corr()"
   ]
  },
  {
   "cell_type": "code",
   "execution_count": 81,
   "metadata": {},
   "outputs": [],
   "source": [
    "# Handle outliers (you can use IsolationForest, Z-score, IQR)"
   ]
  },
  {
   "cell_type": "code",
   "execution_count": 82,
   "metadata": {},
   "outputs": [
    {
     "data": {
      "text/html": [
       "<div>\n",
       "<style scoped>\n",
       "    .dataframe tbody tr th:only-of-type {\n",
       "        vertical-align: middle;\n",
       "    }\n",
       "\n",
       "    .dataframe tbody tr th {\n",
       "        vertical-align: top;\n",
       "    }\n",
       "\n",
       "    .dataframe thead th {\n",
       "        text-align: right;\n",
       "    }\n",
       "</style>\n",
       "<table border=\"1\" class=\"dataframe\">\n",
       "  <thead>\n",
       "    <tr style=\"text-align: right;\">\n",
       "      <th></th>\n",
       "      <th>0</th>\n",
       "      <th>1</th>\n",
       "      <th>2</th>\n",
       "      <th>3</th>\n",
       "      <th>4</th>\n",
       "      <th>5</th>\n",
       "      <th>6</th>\n",
       "      <th>7</th>\n",
       "    </tr>\n",
       "  </thead>\n",
       "  <tbody>\n",
       "    <tr>\n",
       "      <td>count</td>\n",
       "      <td>10000.000000</td>\n",
       "      <td>10000.000000</td>\n",
       "      <td>10000.000000</td>\n",
       "      <td>10000.000000</td>\n",
       "      <td>10000.000000</td>\n",
       "      <td>10000.000000</td>\n",
       "      <td>10000.000000</td>\n",
       "      <td>10000.000000</td>\n",
       "    </tr>\n",
       "    <tr>\n",
       "      <td>mean</td>\n",
       "      <td>-1.004918</td>\n",
       "      <td>0.982548</td>\n",
       "      <td>0.003020</td>\n",
       "      <td>1.071892</td>\n",
       "      <td>0.995967</td>\n",
       "      <td>-1.869138</td>\n",
       "      <td>-0.001747</td>\n",
       "      <td>0.994744</td>\n",
       "    </tr>\n",
       "    <tr>\n",
       "      <td>std</td>\n",
       "      <td>2.125161</td>\n",
       "      <td>2.236374</td>\n",
       "      <td>1.016612</td>\n",
       "      <td>2.571314</td>\n",
       "      <td>2.161592</td>\n",
       "      <td>2.587044</td>\n",
       "      <td>2.446634</td>\n",
       "      <td>2.266276</td>\n",
       "    </tr>\n",
       "    <tr>\n",
       "      <td>min</td>\n",
       "      <td>-7.361942</td>\n",
       "      <td>-6.334871</td>\n",
       "      <td>-3.531879</td>\n",
       "      <td>-6.507147</td>\n",
       "      <td>-6.124101</td>\n",
       "      <td>-10.552410</td>\n",
       "      <td>-8.263252</td>\n",
       "      <td>-6.274545</td>\n",
       "    </tr>\n",
       "    <tr>\n",
       "      <td>25%</td>\n",
       "      <td>-2.575438</td>\n",
       "      <td>-0.418504</td>\n",
       "      <td>-0.673464</td>\n",
       "      <td>-1.196634</td>\n",
       "      <td>-0.507065</td>\n",
       "      <td>-3.750591</td>\n",
       "      <td>-1.984409</td>\n",
       "      <td>-0.594088</td>\n",
       "    </tr>\n",
       "    <tr>\n",
       "      <td>50%</td>\n",
       "      <td>-1.448219</td>\n",
       "      <td>1.414705</td>\n",
       "      <td>0.013764</td>\n",
       "      <td>1.182811</td>\n",
       "      <td>1.478394</td>\n",
       "      <td>-1.769049</td>\n",
       "      <td>0.215688</td>\n",
       "      <td>1.373192</td>\n",
       "    </tr>\n",
       "    <tr>\n",
       "      <td>75%</td>\n",
       "      <td>0.666344</td>\n",
       "      <td>2.548942</td>\n",
       "      <td>0.680873</td>\n",
       "      <td>3.296581</td>\n",
       "      <td>2.529939</td>\n",
       "      <td>0.072616</td>\n",
       "      <td>1.985890</td>\n",
       "      <td>2.617999</td>\n",
       "    </tr>\n",
       "    <tr>\n",
       "      <td>max</td>\n",
       "      <td>6.445003</td>\n",
       "      <td>7.784181</td>\n",
       "      <td>3.443926</td>\n",
       "      <td>8.484377</td>\n",
       "      <td>7.824402</td>\n",
       "      <td>5.853682</td>\n",
       "      <td>6.944183</td>\n",
       "      <td>7.815690</td>\n",
       "    </tr>\n",
       "  </tbody>\n",
       "</table>\n",
       "</div>"
      ],
      "text/plain": [
       "                  0             1             2             3             4  \\\n",
       "count  10000.000000  10000.000000  10000.000000  10000.000000  10000.000000   \n",
       "mean      -1.004918      0.982548      0.003020      1.071892      0.995967   \n",
       "std        2.125161      2.236374      1.016612      2.571314      2.161592   \n",
       "min       -7.361942     -6.334871     -3.531879     -6.507147     -6.124101   \n",
       "25%       -2.575438     -0.418504     -0.673464     -1.196634     -0.507065   \n",
       "50%       -1.448219      1.414705      0.013764      1.182811      1.478394   \n",
       "75%        0.666344      2.548942      0.680873      3.296581      2.529939   \n",
       "max        6.445003      7.784181      3.443926      8.484377      7.824402   \n",
       "\n",
       "                  5             6             7  \n",
       "count  10000.000000  10000.000000  10000.000000  \n",
       "mean      -1.869138     -0.001747      0.994744  \n",
       "std        2.587044      2.446634      2.266276  \n",
       "min      -10.552410     -8.263252     -6.274545  \n",
       "25%       -3.750591     -1.984409     -0.594088  \n",
       "50%       -1.769049      0.215688      1.373192  \n",
       "75%        0.072616      1.985890      2.617999  \n",
       "max        5.853682      6.944183      7.815690  "
      ]
     },
     "execution_count": 82,
     "metadata": {},
     "output_type": "execute_result"
    }
   ],
   "source": [
    "df.describe()"
   ]
  },
  {
   "cell_type": "code",
   "execution_count": 83,
   "metadata": {},
   "outputs": [
    {
     "data": {
      "text/plain": [
       "3.6162649776206903"
      ]
     },
     "execution_count": 83,
     "metadata": {},
     "output_type": "execute_result"
    }
   ],
   "source": [
    "iqr(df)"
   ]
  },
  {
   "cell_type": "code",
   "execution_count": 84,
   "metadata": {},
   "outputs": [
    {
     "data": {
      "text/plain": [
       "array([[0.24934109, 0.21155632, 1.54848575, ..., 0.53763097, 0.00566284,\n",
       "        1.15220659],\n",
       "       [1.21562472, 1.62265494, 0.52187207, ..., 0.03314851, 1.40338979,\n",
       "        0.51777165],\n",
       "       [0.78712613, 0.16242045, 0.25947611, ..., 0.12249416, 0.48387509,\n",
       "        0.35998293],\n",
       "       ...,\n",
       "       [0.67334555, 1.4827283 , 0.52439513, ..., 0.50960652, 0.53475377,\n",
       "        0.55105502],\n",
       "       [0.08336999, 0.15830524, 0.83152777, ..., 1.11728642, 0.99626339,\n",
       "        0.9651887 ],\n",
       "       [0.66636667, 0.73903683, 0.68826729, ..., 1.01941697, 1.24352619,\n",
       "        1.01322073]])"
      ]
     },
     "execution_count": 84,
     "metadata": {},
     "output_type": "execute_result"
    }
   ],
   "source": [
    "z = np.abs(stats.zscore(df))\n",
    "z"
   ]
  },
  {
   "cell_type": "code",
   "execution_count": 85,
   "metadata": {},
   "outputs": [
    {
     "data": {
      "text/plain": [
       "58"
      ]
     },
     "execution_count": 85,
     "metadata": {},
     "output_type": "execute_result"
    }
   ],
   "source": [
    "outliers = list(set(np.where(z > 3)[0]))\n",
    "len(outliers)"
   ]
  },
  {
   "cell_type": "code",
   "execution_count": 112,
   "metadata": {},
   "outputs": [
    {
     "name": "stdout",
     "output_type": "stream",
     "text": [
      " 1    8800\n",
      "-1    1200\n",
      "Name: anomaly, dtype: int64\n"
     ]
    }
   ],
   "source": [
    "to_model_columns = df.columns[0:8]\n",
    "\n",
    "from sklearn.ensemble import IsolationForest\n",
    "clf=IsolationForest(n_estimators=100, max_samples='auto', contamination=float(.12), \n",
    "                    max_features=1.0, bootstrap=False, n_jobs=-1, random_state=42, verbose=0)\n",
    "\n",
    "clf.fit(df[to_model_columns])\n",
    "pred = clf.predict(df[to_model_columns])\n",
    "df['anomaly']=pred\n",
    "outliers=df.loc[df['anomaly']==-1]\n",
    "outlier_index=list(outliers.index)\n",
    "\n",
    "#print(outlier_index)\n",
    "#Find the number of anomalies and normal points here points classified -1 are anomalous\n",
    "print(df['anomaly'].value_counts())"
   ]
  },
  {
   "cell_type": "code",
   "execution_count": 87,
   "metadata": {},
   "outputs": [],
   "source": [
    "# Split dataset into train and test set"
   ]
  },
  {
   "cell_type": "code",
   "execution_count": 88,
   "metadata": {},
   "outputs": [
    {
     "data": {
      "text/plain": [
       "(10000, 8)"
      ]
     },
     "execution_count": 88,
     "metadata": {},
     "output_type": "execute_result"
    }
   ],
   "source": [
    "X.shape"
   ]
  },
  {
   "cell_type": "code",
   "execution_count": 89,
   "metadata": {},
   "outputs": [
    {
     "data": {
      "text/plain": [
       "(10000,)"
      ]
     },
     "execution_count": 89,
     "metadata": {},
     "output_type": "execute_result"
    }
   ],
   "source": [
    "y.shape"
   ]
  },
  {
   "cell_type": "code",
   "execution_count": 135,
   "metadata": {},
   "outputs": [],
   "source": [
    "# Locate features and label\n",
    "X, y = df.iloc[: , :-1], df.iloc[: , -1]"
   ]
  },
  {
   "cell_type": "code",
   "execution_count": 136,
   "metadata": {},
   "outputs": [],
   "source": [
    "X_train, X_test, y_train, y_test = train_test_split(X,y,test_size=0.2,random_state=42)"
   ]
  },
  {
   "cell_type": "code",
   "execution_count": 137,
   "metadata": {},
   "outputs": [
    {
     "data": {
      "text/html": [
       "<div>\n",
       "<style scoped>\n",
       "    .dataframe tbody tr th:only-of-type {\n",
       "        vertical-align: middle;\n",
       "    }\n",
       "\n",
       "    .dataframe tbody tr th {\n",
       "        vertical-align: top;\n",
       "    }\n",
       "\n",
       "    .dataframe thead th {\n",
       "        text-align: right;\n",
       "    }\n",
       "</style>\n",
       "<table border=\"1\" class=\"dataframe\">\n",
       "  <thead>\n",
       "    <tr style=\"text-align: right;\">\n",
       "      <th></th>\n",
       "      <th>0</th>\n",
       "      <th>1</th>\n",
       "      <th>2</th>\n",
       "      <th>3</th>\n",
       "      <th>4</th>\n",
       "      <th>5</th>\n",
       "      <th>6</th>\n",
       "      <th>7</th>\n",
       "    </tr>\n",
       "  </thead>\n",
       "  <tbody>\n",
       "    <tr>\n",
       "      <td>9254</td>\n",
       "      <td>-1.988394</td>\n",
       "      <td>1.610143</td>\n",
       "      <td>-0.223653</td>\n",
       "      <td>1.785514</td>\n",
       "      <td>-2.382934</td>\n",
       "      <td>-4.726259</td>\n",
       "      <td>-2.394578</td>\n",
       "      <td>3.050377</td>\n",
       "    </tr>\n",
       "    <tr>\n",
       "      <td>1561</td>\n",
       "      <td>-1.605191</td>\n",
       "      <td>1.853359</td>\n",
       "      <td>-0.271610</td>\n",
       "      <td>1.106163</td>\n",
       "      <td>-2.489851</td>\n",
       "      <td>-4.180478</td>\n",
       "      <td>-1.715804</td>\n",
       "      <td>2.797902</td>\n",
       "    </tr>\n",
       "    <tr>\n",
       "      <td>1670</td>\n",
       "      <td>-1.813249</td>\n",
       "      <td>-1.079741</td>\n",
       "      <td>-1.149430</td>\n",
       "      <td>5.386079</td>\n",
       "      <td>1.673374</td>\n",
       "      <td>-4.371704</td>\n",
       "      <td>-4.026307</td>\n",
       "      <td>3.445497</td>\n",
       "    </tr>\n",
       "    <tr>\n",
       "      <td>6087</td>\n",
       "      <td>-3.058550</td>\n",
       "      <td>2.640837</td>\n",
       "      <td>-1.728905</td>\n",
       "      <td>2.706070</td>\n",
       "      <td>-1.775603</td>\n",
       "      <td>-7.018835</td>\n",
       "      <td>-3.274851</td>\n",
       "      <td>3.344528</td>\n",
       "    </tr>\n",
       "    <tr>\n",
       "      <td>6669</td>\n",
       "      <td>-3.680925</td>\n",
       "      <td>1.601632</td>\n",
       "      <td>2.474623</td>\n",
       "      <td>2.999703</td>\n",
       "      <td>-3.231377</td>\n",
       "      <td>-7.063301</td>\n",
       "      <td>-4.894835</td>\n",
       "      <td>2.998605</td>\n",
       "    </tr>\n",
       "    <tr>\n",
       "      <td>...</td>\n",
       "      <td>...</td>\n",
       "      <td>...</td>\n",
       "      <td>...</td>\n",
       "      <td>...</td>\n",
       "      <td>...</td>\n",
       "      <td>...</td>\n",
       "      <td>...</td>\n",
       "      <td>...</td>\n",
       "    </tr>\n",
       "    <tr>\n",
       "      <td>5734</td>\n",
       "      <td>-3.775491</td>\n",
       "      <td>4.128033</td>\n",
       "      <td>0.096262</td>\n",
       "      <td>-2.151836</td>\n",
       "      <td>-0.771601</td>\n",
       "      <td>-2.568588</td>\n",
       "      <td>2.784466</td>\n",
       "      <td>-0.893880</td>\n",
       "    </tr>\n",
       "    <tr>\n",
       "      <td>5191</td>\n",
       "      <td>-1.562775</td>\n",
       "      <td>3.987294</td>\n",
       "      <td>0.584253</td>\n",
       "      <td>-0.424515</td>\n",
       "      <td>-0.013253</td>\n",
       "      <td>-3.195606</td>\n",
       "      <td>2.694082</td>\n",
       "      <td>2.577694</td>\n",
       "    </tr>\n",
       "    <tr>\n",
       "      <td>5390</td>\n",
       "      <td>2.100454</td>\n",
       "      <td>2.184480</td>\n",
       "      <td>0.263973</td>\n",
       "      <td>-2.631713</td>\n",
       "      <td>-0.051688</td>\n",
       "      <td>-0.127744</td>\n",
       "      <td>0.590893</td>\n",
       "      <td>-2.193862</td>\n",
       "    </tr>\n",
       "    <tr>\n",
       "      <td>860</td>\n",
       "      <td>2.426819</td>\n",
       "      <td>0.675555</td>\n",
       "      <td>0.398819</td>\n",
       "      <td>-1.518354</td>\n",
       "      <td>1.566493</td>\n",
       "      <td>2.025135</td>\n",
       "      <td>2.605119</td>\n",
       "      <td>-0.382470</td>\n",
       "    </tr>\n",
       "    <tr>\n",
       "      <td>7270</td>\n",
       "      <td>-5.091672</td>\n",
       "      <td>3.749871</td>\n",
       "      <td>2.103653</td>\n",
       "      <td>3.341594</td>\n",
       "      <td>1.624098</td>\n",
       "      <td>-7.133223</td>\n",
       "      <td>-0.147104</td>\n",
       "      <td>3.619701</td>\n",
       "    </tr>\n",
       "  </tbody>\n",
       "</table>\n",
       "<p>8000 rows × 8 columns</p>\n",
       "</div>"
      ],
      "text/plain": [
       "             0         1         2         3         4         5         6  \\\n",
       "9254 -1.988394  1.610143 -0.223653  1.785514 -2.382934 -4.726259 -2.394578   \n",
       "1561 -1.605191  1.853359 -0.271610  1.106163 -2.489851 -4.180478 -1.715804   \n",
       "1670 -1.813249 -1.079741 -1.149430  5.386079  1.673374 -4.371704 -4.026307   \n",
       "6087 -3.058550  2.640837 -1.728905  2.706070 -1.775603 -7.018835 -3.274851   \n",
       "6669 -3.680925  1.601632  2.474623  2.999703 -3.231377 -7.063301 -4.894835   \n",
       "...        ...       ...       ...       ...       ...       ...       ...   \n",
       "5734 -3.775491  4.128033  0.096262 -2.151836 -0.771601 -2.568588  2.784466   \n",
       "5191 -1.562775  3.987294  0.584253 -0.424515 -0.013253 -3.195606  2.694082   \n",
       "5390  2.100454  2.184480  0.263973 -2.631713 -0.051688 -0.127744  0.590893   \n",
       "860   2.426819  0.675555  0.398819 -1.518354  1.566493  2.025135  2.605119   \n",
       "7270 -5.091672  3.749871  2.103653  3.341594  1.624098 -7.133223 -0.147104   \n",
       "\n",
       "             7  \n",
       "9254  3.050377  \n",
       "1561  2.797902  \n",
       "1670  3.445497  \n",
       "6087  3.344528  \n",
       "6669  2.998605  \n",
       "...        ...  \n",
       "5734 -0.893880  \n",
       "5191  2.577694  \n",
       "5390 -2.193862  \n",
       "860  -0.382470  \n",
       "7270  3.619701  \n",
       "\n",
       "[8000 rows x 8 columns]"
      ]
     },
     "execution_count": 137,
     "metadata": {},
     "output_type": "execute_result"
    }
   ],
   "source": [
    "X_train"
   ]
  },
  {
   "cell_type": "code",
   "execution_count": 138,
   "metadata": {},
   "outputs": [
    {
     "data": {
      "text/plain": [
       "9254    1\n",
       "1561    1\n",
       "1670    1\n",
       "6087    1\n",
       "6669   -1\n",
       "       ..\n",
       "5734   -1\n",
       "5191    1\n",
       "5390    1\n",
       "860     1\n",
       "7270   -1\n",
       "Name: anomaly, Length: 8000, dtype: int32"
      ]
     },
     "execution_count": 138,
     "metadata": {},
     "output_type": "execute_result"
    }
   ],
   "source": [
    "y_train"
   ]
  },
  {
   "cell_type": "code",
   "execution_count": 139,
   "metadata": {},
   "outputs": [],
   "source": [
    "# Import Decision Tree, define different hyperparamters and tune the algorithm."
   ]
  },
  {
   "cell_type": "code",
   "execution_count": 140,
   "metadata": {},
   "outputs": [
    {
     "name": "stdout",
     "output_type": "stream",
     "text": [
      "Accuracy of train: 0.916\n",
      "Accuracy of test: 0.907\n"
     ]
    }
   ],
   "source": [
    "from sklearn.tree import DecisionTreeClassifier\n",
    "\n",
    "clf = DecisionTreeClassifier(max_depth=4, random_state=42)\n",
    "clf.fit(X_train,y_train)\n",
    "print(\"Accuracy of train:\",clf.score(X_train,y_train))\n",
    "print(\"Accuracy of test:\",clf.score(X_test,y_test))"
   ]
  },
  {
   "cell_type": "markdown",
   "metadata": {},
   "source": [
    "* Bias for training: 1 - 0.916 = 0.084 \n",
    "* Bias for test: 1 - 0.907 = 0.093\n",
    "* Variance = test bias - training bias = 0.009"
   ]
  },
  {
   "cell_type": "code",
   "execution_count": 134,
   "metadata": {},
   "outputs": [
    {
     "name": "stdout",
     "output_type": "stream",
     "text": [
      "Tuned Decision Tree Parameters: {'criterion': 'entropy', 'max_depth': None, 'max_features': 7, 'min_samples_leaf': 8}\n",
      "Best score is 0.979\n"
     ]
    }
   ],
   "source": [
    "from scipy.stats import randint\n",
    "param_dist = {\"max_depth\": [4, None],\n",
    "              \"max_features\": randint(1, 9),\n",
    "              \"min_samples_leaf\": randint(1, 9),\n",
    "              \"criterion\": [\"gini\", \"entropy\"]}\n",
    "\n",
    "#Instantiate a Decision Tree classifier: tree\n",
    "tree = DecisionTreeClassifier()\n",
    "\n",
    "#Instantiate the RandomizedSearchCV object: tree_cv\n",
    "tree_cv = RandomizedSearchCV(tree, param_dist, cv=5)\n",
    "\n",
    "#Fit it to the data\n",
    "tree_cv.fit(X,y)\n",
    "\n",
    "#Print the tuned parameters and score\n",
    "print(\"Tuned Decision Tree Parameters: {}\".format(tree_cv.best_params_))\n",
    "print(\"Best score is {}\".format(tree_cv.best_score_))"
   ]
  },
  {
   "cell_type": "code",
   "execution_count": 142,
   "metadata": {},
   "outputs": [
    {
     "data": {
      "text/plain": [
       "Index([0, 1, 2, 3, 4, 5, 6, 7], dtype='object')"
      ]
     },
     "execution_count": 142,
     "metadata": {},
     "output_type": "execute_result"
    }
   ],
   "source": [
    "X.columns"
   ]
  },
  {
   "cell_type": "code",
   "execution_count": 144,
   "metadata": {},
   "outputs": [
    {
     "data": {
      "image/png": "[encoded data removed]",
      "text/plain": [
       "<Figure size 864x576 with 1 Axes>"
      ]
     },
     "metadata": {
      "needs_background": "light"
     },
     "output_type": "display_data"
    }
   ],
   "source": [
    "#Feature Importance\n",
    "plt.figure(figsize=(12, 8))\n",
    "importance = clf.feature_importances_\n",
    "sns.barplot(x=importance, y=X.columns)\n",
    "plt.show()"
   ]
  },
  {
   "cell_type": "code",
   "execution_count": 145,
   "metadata": {},
   "outputs": [],
   "source": [
    "# Create confusion matrix and calculate accuracy, recall, precision and f1 score."
   ]
  },
  {
   "cell_type": "code",
   "execution_count": 146,
   "metadata": {},
   "outputs": [
    {
     "name": "stdout",
     "output_type": "stream",
     "text": [
      "              precision    recall  f1-score   support\n",
      "\n",
      "          -1       0.73      0.37      0.49       242\n",
      "           1       0.92      0.98      0.95      1758\n",
      "\n",
      "    accuracy                           0.91      2000\n",
      "   macro avg       0.82      0.68      0.72      2000\n",
      "weighted avg       0.90      0.91      0.89      2000\n",
      "\n"
     ]
    }
   ],
   "source": [
    "#Classification Report\n",
    "from sklearn.metrics import precision_score, recall_score, accuracy_score, classification_report, f1_score\n",
    "pred = clf.predict(X_test)\n",
    "print(classification_report(y_test,pred))"
   ]
  },
  {
   "cell_type": "code",
   "execution_count": 147,
   "metadata": {},
   "outputs": [
    {
     "name": "stdout",
     "output_type": "stream",
     "text": [
      "Precision = 0.8223914987275603\n",
      "Recall = 0.6762803335871905\n",
      "Accuracy = 0.907\n",
      "F1 Score = 0.7203100047817966\n"
     ]
    }
   ],
   "source": [
    "#Metrics\n",
    "print(\"Precision = {}\".format(precision_score(y_test, pred, average='macro')))\n",
    "print(\"Recall = {}\".format(recall_score(y_test, pred, average='macro')))\n",
    "print(\"Accuracy = {}\".format(accuracy_score(y_test, pred)))\n",
    "print(\"F1 Score = {}\".format(f1_score(y_test, pred,average='macro')))"
   ]
  },
  {
   "cell_type": "code",
   "execution_count": 164,
   "metadata": {},
   "outputs": [
    {
     "data": {
      "image/png": "[encoded data removed]",
      "text/plain": [
       "<Figure size 576x576 with 1 Axes>"
      ]
     },
     "metadata": {
      "needs_background": "light"
     },
     "output_type": "display_data"
    }
   ],
   "source": [
    "#Confusion Matrix\n",
    "from sklearn.metrics import confusion_matrix\n",
    "\n",
    "cm = confusion_matrix(y_test, pred)\n",
    "plt.figure(figsize=(8, 8))\n",
    "ax =sns.heatmap(cm, square=True, annot=True, cbar=False, linewidths=.5)\n",
    "ax.xaxis.set_ticklabels(categories, fontsize = 12)\n",
    "ax.yaxis.set_ticklabels(categories, fontsize = 12, rotation=0)\n",
    "ax.set_xlabel('Predicted Labels',fontsize = 10)\n",
    "ax.set_ylabel('True Labels',fontsize = 10)\n",
    "plt.show()"
   ]
  },
  {
   "cell_type": "code",
   "execution_count": 149,
   "metadata": {},
   "outputs": [],
   "source": [
    "# Import XGBoostClassifier, define different hyperparamters and tune the algorithm."
   ]
  },
  {
   "cell_type": "raw",
   "metadata": {},
   "source": [
    "#in case of \"import xgboost as xgb\" line not works use this line:\n",
    "pip install xgboost"
   ]
  },
  {
   "cell_type": "code",
   "execution_count": 171,
   "metadata": {},
   "outputs": [],
   "source": [
    "import xgboost as xgb"
   ]
  },
  {
   "cell_type": "code",
   "execution_count": 173,
   "metadata": {},
   "outputs": [],
   "source": [
    "dmatrix_train = xgb.DMatrix(data=X_train, label=y_train)\n",
    "dmatrix_test = xgb.DMatrix(data=X_test, label=y_test)"
   ]
  },
  {
   "cell_type": "markdown",
   "metadata": {},
   "source": [
    "param = {'max_depth':3, \n",
    "         'eta':1, \n",
    "         'objective':'multi:softprob', \n",
    "         'num_class':3}\n",
    "\n",
    "num_round = 5\n",
    "model = xgb.train(param, dmatrix_train, num_round)"
   ]
  },
  {
   "cell_type": "markdown",
   "metadata": {},
   "source": [
    "categories"
   ]
  },
  {
   "cell_type": "markdown",
   "metadata": {},
   "source": [
    "preds = model.predict(dmatrix_test)\n",
    "preds[:10]"
   ]
  },
  {
   "cell_type": "markdown",
   "metadata": {},
   "source": [
    "best_preds = np.asarray([np.argmax(line) for line in preds])"
   ]
  },
  {
   "cell_type": "markdown",
   "metadata": {},
   "source": [
    "best_preds"
   ]
  },
  {
   "cell_type": "code",
   "execution_count": null,
   "metadata": {},
   "outputs": [],
   "source": []
  },
  {
   "cell_type": "code",
   "execution_count": 157,
   "metadata": {},
   "outputs": [],
   "source": [
    "# Visualize feature importances."
   ]
  },
  {
   "cell_type": "code",
   "execution_count": 158,
   "metadata": {},
   "outputs": [
    {
     "data": {
      "image/png": "[encoded data removed]",
      "text/plain": [
       "<Figure size 864x576 with 1 Axes>"
      ]
     },
     "metadata": {
      "needs_background": "light"
     },
     "output_type": "display_data"
    }
   ],
   "source": [
    "#Feature Importance\n",
    "plt.figure(figsize=(12, 8))\n",
    "importance = clf.feature_importances_\n",
    "sns.barplot(x=importance, y=X.columns)\n",
    "plt.show()"
   ]
  },
  {
   "cell_type": "code",
   "execution_count": 159,
   "metadata": {},
   "outputs": [],
   "source": [
    "# Create confusion matrix and calculate accuracy, recall, precision and f1 score."
   ]
  },
  {
   "cell_type": "markdown",
   "metadata": {},
   "source": [
    "print(\"Precision = {}\".format(precision_score(y_test, best_preds, average='macro')))\n",
    "print(\"Recall = {}\".format(recall_score(y_test, best_preds, average='macro')))\n",
    "print(\"Accuracy = {}\".format(accuracy_score(y_test, best_preds)))"
   ]
  },
  {
   "cell_type": "markdown",
   "metadata": {},
   "source": [
    "from sklearn.metrics import confusion_matrix\n",
    "\n",
    "plt.figure(figsize=(12, 8))\n",
    "cm = confusion_matrix(y_test, best_preds)\n",
    "ax = sns.heatmap(cm, square=True, annot=True, cbar=False)\n",
    "ax.xaxis.set_ticklabels(categories, fontsize = 12)\n",
    "ax.yaxis.set_ticklabels(categories, fontsize = 12, rotation=0)\n",
    "ax.set_xlabel('Predicted Labels',fontsize = 15)\n",
    "ax.set_ylabel('True Labels',fontsize = 15)\n",
    "plt.show()"
   ]
  },
  {
   "cell_type": "code",
   "execution_count": 162,
   "metadata": {},
   "outputs": [],
   "source": [
    "# Evaluate your result and select best performing algorithm for our case."
   ]
  },
  {
   "cell_type": "code",
   "execution_count": null,
   "metadata": {},
   "outputs": [],
   "source": []
  },
  {
   "cell_type": "code",
   "execution_count": null,
   "metadata": {},
   "outputs": [],
   "source": []
  }
 ],
 "metadata": {
  "kernelspec": {
   "display_name": "Python 3",
   "language": "python",
   "name": "python3"
  },
  "language_info": {
   "codemirror_mode": {
    "name": "ipython",
    "version": 3
   },
   "file_extension": ".py",
   "mimetype": "text/x-python",
   "name": "python",
   "nbconvert_exporter": "python",
   "pygments_lexer": "ipython3",
   "version": "3.7.4"
  }
 },
 "nbformat": 4,
 "nbformat_minor": 2
}
